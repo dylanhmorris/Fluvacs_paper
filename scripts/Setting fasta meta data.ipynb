{
 "cells": [
  {
   "cell_type": "markdown",
   "metadata": {},
   "source": [
    "# Renaming the fasta sequencing for the 2007-2008 trees"
   ]
  },
  {
   "cell_type": "markdown",
   "metadata": {},
   "source": [
    "Here I will be reading in the HA sequences from the 2007-2008 sequencing runs (1239 and 1304). I'll read them all in. Then I'll read in the meta data and use the meta data to format the name of each seqeunces as \n",
    "\n",
    "\n",
    "Name\\_[L,T,P]\\_[1,0]\\_year.%ofyear\n",
    "\n",
    "where [1,0] indicates wherethere or not the HA titer is above the GMT for that sample"
   ]
  },
  {
   "cell_type": "code",
   "execution_count": 5,
   "metadata": {
    "collapsed": true
   },
   "outputs": [],
   "source": [
    "from Bio.Seq import Seq\n",
    "from Bio import SeqIO\n",
    "from Bio.Alphabet import IUPAC\n",
    "import pandas as pd"
   ]
  },
  {
   "cell_type": "code",
   "execution_count": 52,
   "metadata": {
    "collapsed": false
   },
   "outputs": [],
   "source": [
    "\n",
    "meta_df=pd.read_csv(\"../data/raw/2007_2008.meta.HAgm.csv\")\n",
    "lauring_id=list(meta_df[\"Id\"])\n",
    "sequences=[]\n",
    "\n",
    "for seq_record in SeqIO.parse(\"../data/processed/Run_1293/parsed_fa/HA.fa\", \"fasta\"):\n",
    "    seq_record.seq.alphabet=IUPAC.unambiguous_dna\n",
    "    Id=seq_record.id.split(\".\")[0]\n",
    "    try:\n",
    "        if int(Id) in lauring_id:\n",
    "            i=lauring_id.index(int(Id))\n",
    "            intervention=list(meta_df[\"Intervention\"])[i]\n",
    "            geom=int(list(meta_df[\"HAI.geo\"])[i])\n",
    "            date=list(meta_df[\"collection_date\"])[i]\n",
    "        else:\n",
    "            intervention=\"NA\"\n",
    "            geom=\"NA\"\n",
    "            date=\"NA\"\n",
    "    except ValueError:\n",
    "            intervention=\"NA\"\n",
    "            geom=\"NA\"\n",
    "            date=\"NA\"\n",
    "    seq_record.id=str(Id)+\"_\"+str(intervention)+\"_\"+str(geom)+\"_\"+str(date)\n",
    "    seq_record.description=\"\" \n",
    "    sequences.append(seq_record)\n",
    "        \n",
    "for seq_record in SeqIO.parse(\"../data/processed/Run_1304/parsed_fa/HA.fa\", \"fasta\"):\n",
    "    seq_record.seq.alphabet=IUPAC.unambiguous_dna\n",
    "    Id=seq_record.id.split(\".\")[0]\n",
    "    try:\n",
    "        if int(Id) in lauring_id:\n",
    "            i=lauring_id.index(int(Id))\n",
    "            intervention=list(meta_df[\"Intervention\"])[i]\n",
    "            geom=int(list(meta_df[\"HAI.geo\"])[i])\n",
    "            date=list(meta_df[\"collection_date\"])[i]\n",
    "        else:\n",
    "            intervention=\"NA\"\n",
    "            geom=\"NA\"\n",
    "            date=\"NA\"\n",
    "    except ValueError:\n",
    "            intervention=\"NA\"\n",
    "            geom=\"NA\"\n",
    "            date=\"NA\"\n",
    "    seq_record.id=str(Id)+\"_\"+str(intervention)+\"_\"+str(geom)+\"_\"+str(date)\n",
    "    seq_record.description=\"\"\n",
    "    sequences.append(seq_record)\n",
    "    "
   ]
  },
  {
   "cell_type": "code",
   "execution_count": 55,
   "metadata": {
    "collapsed": false
   },
   "outputs": [
    {
     "data": {
      "text/plain": [
       "89"
      ]
     },
     "execution_count": 55,
     "metadata": {},
     "output_type": "execute_result"
    }
   ],
   "source": [
    "SeqIO.write(sequences, \"../data/processed/2007-2008.meta.fa\", \"fasta\")"
   ]
  },
  {
   "cell_type": "code",
   "execution_count": null,
   "metadata": {
    "collapsed": true
   },
   "outputs": [],
   "source": []
  }
 ],
 "metadata": {
  "kernelspec": {
   "display_name": "Python 3",
   "language": "python",
   "name": "python3"
  },
  "language_info": {
   "codemirror_mode": {
    "name": "ipython",
    "version": 3
   },
   "file_extension": ".py",
   "mimetype": "text/x-python",
   "name": "python",
   "nbconvert_exporter": "python",
   "pygments_lexer": "ipython3",
   "version": "3.5.1"
  }
 },
 "nbformat": 4,
 "nbformat_minor": 0
}
